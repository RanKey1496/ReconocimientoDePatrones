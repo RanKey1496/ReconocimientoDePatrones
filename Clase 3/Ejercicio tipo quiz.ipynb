{
 "cells": [
  {
   "cell_type": "code",
   "execution_count": 42,
   "metadata": {
    "collapsed": true
   },
   "outputs": [],
   "source": [
    "import re as regex\n",
    "archivo = open(\"supernova.txt\", \"r\")\n",
    "verbos = open(\"verbos.txt\", \"a\")\n",
    "adverbios = open(\"adverbios.txt\", \"a\")"
   ]
  },
  {
   "cell_type": "code",
   "execution_count": 43,
   "metadata": {},
   "outputs": [
    {
     "data": {
      "text/plain": [
       "'ï»¿Remanente de la supernova de Kepler, SN 1604.\\nUna supernova (del latÃ\\xadn nova, Â«nuevaÂ») es una explosiÃ³n estelar que puede manifestarse de forma muy notable, incluso a simple vista, en lugares de la esfera celeste donde antes no se habÃ\\xada detectado nada en particular. Por esta razÃ³n, a eventos de esta naturaleza se los llamÃ³ inicialmente stellae novae (Â«estrellas nuevasÂ») o simplemente novae. Con el tiempo se hizo la distinciÃ³n entre fenÃ³menos aparentemente similares pero de luminosidad intrÃ\\xadnseca muy diferente; los menos luminosos continuaron llamÃ¡ndose novae (novas), en tanto que el tÃ©rmino supernova fue acuÃ±ado por Walter Baade y Fritz Zwicky en 1931 para denominar a los mÃ¡s luminosos agregÃ¡ndoles el prefijo Â«super-Â».\\n\\nEl tÃ©rmino mÃ¡s arcaico fue utilizado desde la antigÃ¼edad para indicar la explosiÃ³n de una estrella enana blanca en sus capas externas, las cuales producen una luminosidad que puede aumentar 100 000 veces su brillo original. Esta luminosidad dura unos pocos dÃ\\xadas y, en ocasiones, puede ser observada a simple vista desde la Tierra. Al ver un nuevo resplandor en el cielo, los seres humanos creÃ\\xadan que habÃ\\xada aparecido una nueva estrella. Al aÃ±o siguiente de la muerte de Fritz Zwicky, en agosto de 1975, apareciÃ³ una nova que pudo ser observada a simple vista desde la Tierra, durante algunos dÃ\\xadas. Esta nova surgiÃ³ de la explosiÃ³n de una gigante roja.\\n\\nLas supernovas producen destellos de luz intensÃ\\xadsimos que pueden durar desde varias semanas a varios meses. Se caracterizan por un rÃ¡pido aumento de la intensidad luminosa hasta alcanzar una magnitud absoluta mayor que el resto de la galaxia. Posteriormente su brillo decrece de forma mÃ¡s o menos suave hasta desaparecer completamente.\\n\\nSe han propuesto varios escenarios para su origen. Pueden ser estrellas masivas que ya no pueden desarrollar reacciones termonucleares en su nÃºcleo, y que son incapaces de sostenerse por la presiÃ³n de degeneraciÃ³n de los electrones, lo que las lleva a contraerse repentinamente (colapsar) y generar, en el proceso, una fuerte emisiÃ³n de energÃ\\xada. Otro proceso mÃ¡s violento aÃºn, capaz de generar destellos incluso mucho mÃ¡s intensos, puede suceder cuando una enana blanca miembro de un sistema binario cerrado, recibe suficiente masa de su compaÃ±era como para superar el lÃ\\xadmite de Chandrasekhar y proceder a la fusiÃ³n instantÃ¡nea de todo su nÃºcleo: esto dispara una explosiÃ³n termonuclear que expulsa casi todo, si no todo, el material que la formaba.\\n\\nLa explosiÃ³n de supernova provoca la expulsiÃ³n de las capas externas de la estrella por medio de poderosas ondas de choque, enriqueciendo el espacio que la rodea con elementos pesados. Los restos eventualmente componen nubes de polvo y gas. Cuando el frente de onda de la explosiÃ³n alcanza otras nubes de gas y polvo cercanas, las comprime y puede desencadenar la formaciÃ³n de nuevas nebulosas solares que originan, despuÃ©s de cierto tiempo, nuevos sistemas estelares (quizÃ¡ con planetas, al estar las nebulosas enriquecidas con los elementos procedentes de la explosiÃ³n).\\n\\nEstos residuos estelares en expansiÃ³n se denominan remanentes y pueden tener o no un objeto compacto en su interior. Dicho remanente terminarÃ¡ por diluirse en el medio interestelar al cabo de millones de aÃ±os. Un ejemplo es RCW 86.\\n\\nLas supernovas pueden liberar varias veces 1044 J de energÃ\\xada. Esto ha resultado en la adopciÃ³n del foe (1044 J) como unidad estÃ¡ndar de energÃ\\xada en el estudio de supernovas.\\n\\nEl 20 de septiembre de 2016, un astrÃ³nomo aficionado llamado VÃ\\xadctor Buso, se convirtiÃ³ en la primera persona en la historia en fotografiar el nacimiento de una supernova a 86 millones de aÃ±os luz, en la galaxia espiral NGC 613, al explotar la estrella bautizada SN 2016gkg.'"
      ]
     },
     "execution_count": 43,
     "metadata": {},
     "output_type": "execute_result"
    }
   ],
   "source": [
    "text = \"\"\n",
    "for line in archivo:\n",
    "    text += line\n",
    "text"
   ]
  },
  {
   "cell_type": "code",
   "execution_count": 44,
   "metadata": {},
   "outputs": [],
   "source": [
    "verbosEncontrados = regex.findall(r\"(\\b[\\w]*(ar|er|ir)\\b)\", text)\n",
    "for verbo in verbosEncontrados:\n",
    "    verbos.write(verbo[0] + \"\\n\")\n",
    "verbos.close()"
   ]
  },
  {
   "cell_type": "code",
   "execution_count": 45,
   "metadata": {},
   "outputs": [],
   "source": [
    "adverbiosEncontrados = regex.findall(r\"(\\b[\\w]*(mente)\\b)\", text)\n",
    "for adverbio in adverbiosEncontrados:\n",
    "    adverbios.write(adverbio[0] + \"\\n\")\n",
    "adverbios.close()"
   ]
  },
  {
   "cell_type": "code",
   "execution_count": null,
   "metadata": {
    "collapsed": true
   },
   "outputs": [],
   "source": []
  }
 ],
 "metadata": {
  "kernelspec": {
   "display_name": "Python 3",
   "language": "python",
   "name": "python3"
  },
  "language_info": {
   "codemirror_mode": {
    "name": "ipython",
    "version": 3
   },
   "file_extension": ".py",
   "mimetype": "text/x-python",
   "name": "python",
   "nbconvert_exporter": "python",
   "pygments_lexer": "ipython3",
   "version": "3.6.3"
  }
 },
 "nbformat": 4,
 "nbformat_minor": 2
}

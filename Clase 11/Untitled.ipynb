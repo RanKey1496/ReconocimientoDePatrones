{
 "cells": [
  {
   "cell_type": "markdown",
   "metadata": {},
   "source": [
    "- Interpolación se hace para hallar el valor de los pixeles\n",
    "- Interpolación:\n",
    "P(x,y)=SUMATORIAn * SUMATORIAm P(i,j)h(x-i,y-j)\n",
    "- h es el nucleo de la interpolacion"
   ]
  },
  {
   "cell_type": "markdown",
   "metadata": {},
   "source": [
    "1) Vecino más cercano => h(x) = {1 0 < |x| < 0.5, 0 de lo contrario\n"
   ]
  }
 ],
 "metadata": {
  "kernelspec": {
   "display_name": "Python 3",
   "language": "python",
   "name": "python3"
  },
  "language_info": {
   "codemirror_mode": {
    "name": "ipython",
    "version": 3
   },
   "file_extension": ".py",
   "mimetype": "text/x-python",
   "name": "python",
   "nbconvert_exporter": "python",
   "pygments_lexer": "ipython3",
   "version": "3.6.3"
  }
 },
 "nbformat": 4,
 "nbformat_minor": 2
}

{
 "cells": [
  {
   "cell_type": "code",
   "execution_count": 5,
   "metadata": {
    "collapsed": true
   },
   "outputs": [],
   "source": [
    "import numpy as np"
   ]
  },
  {
   "cell_type": "code",
   "execution_count": 13,
   "metadata": {},
   "outputs": [
    {
     "name": "stdout",
     "output_type": "stream",
     "text": [
      "['Antes', 'de', 'la', 'aparición', 'de', 'la', 'nación', 'de', 'Wakanda,', 'seres', 'místicos', 'conocidos', 'como', 'Originadores', 'fueron', 'expulsados', 'de', 'la', 'región', 'por', 'los', 'orixás,', 'el', 'panteón', 'de', 'divinidades', 'de', 'Wakanda', 'compuesto', 'por', 'Tot,', 'Ptah,', 'Mujaji,', 'Kokou', 'y', 'Bastet,', 'la', 'Diosa', 'Pantera.2?', 'La', 'línea', 'real', 'de', 'Wakanda', 'comenzó', 'con', 'Bashenga,', 'un', 'antiguo', 'Wakanda', 'cuya', 'primera', 'aparición', 'fue', 'en', 'Pantera', 'Negra', 'vol.', '1', '#', '7', '(enero', 'de', '1978).', 'Bashenga', 'fue', 'el', 'primer', 'rey', 'sobre', 'la', 'nación', 'unificada', 'de', 'Wakanda', 'además', 'del', 'primer', 'Pantera', 'Negra,', 'hace', 'unos', '10.000', 'años.\\n\\nEn', 'un', 'pasado', 'lejano', 'Wakanda', 'fue', 'impactada', 'por', 'la', 'caída', 'del', 'precio', 'de', 'compuesto', 'por', 'el', 'misterioso', 'mineral', 'llamado', 'vibranium,', 'capaz', 'de', 'absorber', 'el', 'sonido', 'y', 'las', 'vibraciones,', 'el', 'cual', 'fue', 'descubierto', 'una', 'generación', 'antes', 'de', 'los', 'acontecimientos', 'actuales', 'del', 'Universo', 'Marvel.', \"T'Challa,\", 'el', 'actual', 'Pantera', 'Negra,', 'es', 'el', 'hijo', 'del', 'rey', \"T'Chaka,\", 'Pantera', 'Negra', 'antes', 'de', 'él', 'y', 'descendiente', 'del', 'rey', 'Bashenga.', 'Al', 'percatarse', 'que', 'otros', 'intentarían', 'manipular', 'y', 'dominar', 'Wakanda', 'para', 'obtener', 'este', 'mineral', 'escaso', 'y', 'valioso,', \"T'Chaka\", 'decidió', 'cerrar', 'las', 'fronteras', 'de', 'su', 'país', 'al', 'resto', 'del', 'mundo.', 'El', 'valioso', 'Vibranium', 'se', 'vende', 'en', 'el', 'extranjero', 'en', 'pequeñas', 'cantidades,', 'enviado', 'subrepticiamente', 'a', 'los', 'mejores', 'especialistas', 'del', 'país', 'para', 'estudiar', 'en', 'el', 'extranjero,', 'lo', 'cual', 'ha', 'posicionado', 'a', 'Wakanda', 'como', 'una', 'de', 'las', 'naciones', 'más', 'avanzadas', 'tecnológicamente', 'en', 'el', 'mundo.', 'Sin', 'embargo,', 'el', 'explorador', 'Ulysses', 'Klaw', 'encuentra', 'su', 'camino', 'a', 'Wakanda,', 'ocultando', 'su', 'trabajo', 'en', 'un', 'arma', 'sónica', 'de', 'propulsión', 'basada', 'en', 'el', 'vibranium.', 'Cuando', 'es', 'descubierto,', 'Klaw', 'mata', 'a', \"T'Chaka\", 'sólo', 'para', 'ver', 'su', '\"Sound', 'Blaster\"', 'vuelto', 'contra', 'él', 'en', 'un', 'duelo', 'con', 'el', 'entonces', 'adolescente', \"T'Challa.\", 'La', 'mano', 'derecha', 'de', 'Klaw', 'se', 'destruye,', 'y', 'él', 'y', 'sus', 'hombres', 'huyen.\\n\\nWakanda', 'tiene', 'una', 'tasa', 'inusualmente', 'alta', 'de', 'mutación', 'producida', 'por', 'las', 'peligrosas', 'propiedades', 'mutagénicas', 'del', 'montículo', 'de', 'Vibranium.', 'Un', 'gran', 'número', 'de', 'mutantes', 'de', 'Wakanda', 'están', 'trabajando', 'para', 'Erik', 'Killmonger.\\n\\nLa', 'radiación', 'del', 'vibranium', 'ha', 'impregnado', 'gran', 'parte', 'de', 'la', 'la', 'flora', 'y', 'la', 'la', 'fauna', 'de', 'Wakanda,', 'incluyendo', 'la', 'hierba', 'en', 'forma', 'de', 'corazón', 'comido', 'por', 'los', 'miembros', 'del', 'Culto', 'de', 'la', 'Pantera', 'Negra', '(aunque', \"T'Challa\", 'permitió', 'una', 'vez', 'a', 'Spider-Man', 'morir', 'para', 'comerlo,', 'con', 'la', 'esperanza', 'de', 'que', 'ayudaría', 'a', 'lidiar', 'con', 'su', 'enfermedad', 'actual)', 'y', 'la', 'carne', 'del', 'gorila', 'blanco', 'que', 'es', 'consumida', 'por', 'los', 'miembros', 'del', 'Culto', 'Gorila', 'Blanco.\\n\\nEn', 'el', '2008,', 'la', 'historia', '\"', 'Secret', 'Invasion\"', 'narra', 'cómo', 'las', 'fuerzas', 'Skrull', 'dirigidas', 'por', 'el', 'comandante', \"K'vvvr,\", 'invadieron', 'Wakanda', 'y', 'se', 'enfrentaron', 'a', 'Pantera', 'Negra', 'y', 'sus', 'soldados.', 'Ambos', 'lados', 'realizan', 'esfuerzos', 'tecnológicos,', 'pero', 'se', 'ven', 'obligados', 'a', 'luchar', 'con', 'espadas', 'y', 'lanzas.', 'Las', 'fuerzas', 'de', 'Wakanda', 'usan', 'máscaras', 'pantera', 'voluntariamente;', 'esto', 'evita', 'que', 'los', 'Skrulls', 'centren', 'su', 'ataque', 'en', 'su', 'líder,', 'Pantera', 'Negra.', 'A', 'pesar', 'de', 'sus', 'pérdidas,', 'los', 'Wakandas', 'derrotan', 'a', 'los', 'Skrulls.', 'Matan', 'a', 'todos', 'y', 'cada', 'uno', 'de', 'ellos,', 'incluyendo', 'a', \"K'vvvr,\", 'y', 'envían', 'su', 'nave', 'de', 'vuelta', 'ocupada', 'por', 'los', 'cuerpos', 'de', 'los', 'skrulls.', 'Una', 'advertencia', 'contra', 'la', 'invasión', 'de', 'Wakanda', 'se', 'deja', 'escrita', 'en', 'la', 'pared', 'del', 'centro', 'de', 'control', 'de', 'la', 'nave.\\n\\nEntre', 'tanto', 'bajo', 'el', 'poder', 'cósmico', 'de', 'la', 'Fuerza', 'Fénix,', 'Namor', 'ataca', 'Wakanda', 'para', 'ocultar', 'a', 'Los', 'Vengadores', 'y', 'destruye', 'gran', 'parte', 'del', 'país', 'con', 'una', 'ola.', 'Después', 'de', 'este', 'ataque', 'se', 'prohíbe', 'la', 'estadía', 'de', 'mutantes', 'en', 'Wakanda,', 'según', 'lo', 'declarado', 'por', 'Pantera', 'Negra,', 'y', 'su', 'gente', 'ataca', 'a', 'algunos', 'estudiantes', 'de', 'Jean', 'Grey,', 'quienes', 'apenas', 'huyen', 'con', 'la', 'ayuda', 'de', 'Tormenta.']\n"
     ]
    }
   ],
   "source": [
    "f = open(\"wakanda.txt\", \"r\")\n",
    "lista = f.read().split(\" \")\n",
    "print (lista)"
   ]
  },
  {
   "cell_type": "code",
   "execution_count": null,
   "metadata": {
    "collapsed": true
   },
   "outputs": [],
   "source": []
  }
 ],
 "metadata": {
  "kernelspec": {
   "display_name": "Python 3",
   "language": "python",
   "name": "python3"
  },
  "language_info": {
   "codemirror_mode": {
    "name": "ipython",
    "version": 3
   },
   "file_extension": ".py",
   "mimetype": "text/x-python",
   "name": "python",
   "nbconvert_exporter": "python",
   "pygments_lexer": "ipython3",
   "version": "3.6.3"
  }
 },
 "nbformat": 4,
 "nbformat_minor": 2
}

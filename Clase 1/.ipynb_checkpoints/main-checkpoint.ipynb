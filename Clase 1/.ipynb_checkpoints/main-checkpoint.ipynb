{
 "cells": [
  {
   "cell_type": "code",
   "execution_count": 77,
   "metadata": {
    "collapsed": true
   },
   "outputs": [],
   "source": [
    "import numpy as np\n",
    "import matplotlib.pyplot as plt"
   ]
  },
  {
   "cell_type": "code",
   "execution_count": 78,
   "metadata": {},
   "outputs": [
    {
     "name": "stdout",
     "output_type": "stream",
     "text": [
      "Verbos con AR 8\n",
      "Verbos con ER 9\n",
      "Verbos con IR 1\n",
      "Verbos con OR 12\n"
     ]
    }
   ],
   "source": [
    "f = open(\"wakanda.txt\", \"r\")\n",
    "lista = []\n",
    "for w in f:\n",
    "    w = w[:-1]\n",
    "    w = w.replace(\",\", \"\")\n",
    "    w = w.replace(\".\", \"\")\n",
    "    lista = lista + w.split(\" \")\n",
    "\n",
    "chandaList = [\".\", \",\", \"\\\"\", \";\", \"(\", \")\", \"'\", \"?\", \"#\"]\n",
    "list2 = []\n",
    "\n",
    "for p in lista:\n",
    "    if len(p) > 0 and p[-1] in chandaList:\n",
    "        p = p[:-1]\n",
    "    if len(p) > 0 and p[0] in chandaList:\n",
    "        p = p[1:]\n",
    "    list2.append(p)\n",
    "    \n",
    "verbosAR = 0\n",
    "verbosER = 0\n",
    "verbosIR = 0\n",
    "verbosOR = 0\n",
    "for v in list2:\n",
    "    if (v[-2:] == 'ar'): verbosAR = verbosAR + 1\n",
    "    elif (v[-2:] == 'er'): verbosER = verbosER + 1\n",
    "    elif (v[-2:] == 'ir'): verbosIR = verbosIR +1\n",
    "    elif (v[-2:] == 'or'): verbosOR = verbosOR + 1\n",
    "\n",
    "print(\"Verbos con AR\", verbosAR)\n",
    "print(\"Verbos con ER\", verbosER)\n",
    "print(\"Verbos con IR\", verbosIR)\n",
    "print(\"Verbos con OR\", verbosOR)"
   ]
  },
  {
   "cell_type": "code",
   "execution_count": 79,
   "metadata": {},
   "outputs": [
    {
     "name": "stdout",
     "output_type": "stream",
     "text": [
      "16\n"
     ]
    }
   ],
   "source": [
    "max = 0\n",
    "for m in list2:\n",
    "    if max < len(m): max = len(m)\n",
    "print (max)"
   ]
  },
  {
   "cell_type": "code",
   "execution_count": 80,
   "metadata": {},
   "outputs": [
    {
     "name": "stdout",
     "output_type": "stream",
     "text": [
      "[7, 32, 126, 77, 48, 60, 48, 69, 34, 26, 20, 12, 4, 1, 0, 2, 2]\n"
     ]
    }
   ],
   "source": [
    "list3 = [0] * (max + 1)\n",
    "for a in list2:\n",
    "    list3[len(a)] = list3[len(a)] + 1\n",
    "    \n",
    "print (list3)"
   ]
  },
  {
   "cell_type": "code",
   "execution_count": 81,
   "metadata": {
    "scrolled": false
   },
   "outputs": [
    {
     "data": {
      "image/png": "[encoded data removed]",
      "text/plain": [
       "<matplotlib.figure.Figure at 0x293afc81198>"
      ]
     },
     "metadata": {},
     "output_type": "display_data"
    }
   ],
   "source": [
    "plt.hist(list3)\n",
    "plt.show()"
   ]
  },
  {
   "cell_type": "code",
   "execution_count": 82,
   "metadata": {},
   "outputs": [
    {
     "name": "stdout",
     "output_type": "stream",
     "text": [
      "{'sapo'}\n"
     ]
    }
   ],
   "source": [
    "dic1 = { 'Pvto': 'Su papá', 'ZoRra': 'tu hermana' }\n",
    "dic2 = { 'holga': 'gay', 'satan': 'homosexual'}\n",
    "dic3 = { 'yo': 'crack', 'repoyo': 'x10000' }\n",
    "\n",
    "con1 = {'sapo'}\n",
    "con1.add('sapo')\n",
    "print(con1)"
   ]
  },
  {
   "cell_type": "code",
   "execution_count": 90,
   "metadata": {},
   "outputs": [
    {
     "name": "stdout",
     "output_type": "stream",
     "text": [
      "[8 9 2]\n",
      "[17 12]\n"
     ]
    }
   ],
   "source": [
    "alpha = np.array([4,3,2])\n",
    "beta = np.array([2,3,1])\n",
    "x = np.array([[3,1], [3,2], [2,4]])\n",
    "beta.shape\n",
    "print (alpha * beta)\n",
    "print (np.dot(beta, x))"
   ]
  },
  {
   "cell_type": "code",
   "execution_count": null,
   "metadata": {
    "collapsed": true
   },
   "outputs": [],
   "source": []
  }
 ],
 "metadata": {
  "kernelspec": {
   "display_name": "Python 3",
   "language": "python",
   "name": "python3"
  },
  "language_info": {
   "codemirror_mode": {
    "name": "ipython",
    "version": 3
   },
   "file_extension": ".py",
   "mimetype": "text/x-python",
   "name": "python",
   "nbconvert_exporter": "python",
   "pygments_lexer": "ipython3",
   "version": "3.6.3"
  }
 },
 "nbformat": 4,
 "nbformat_minor": 2
}

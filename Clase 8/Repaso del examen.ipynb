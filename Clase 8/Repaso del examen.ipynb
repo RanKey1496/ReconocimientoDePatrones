{
 "cells": [
  {
   "cell_type": "code",
   "execution_count": 5,
   "metadata": {
    "collapsed": true
   },
   "outputs": [],
   "source": [
    "import matplotlib.pyplot as plt\n",
    "import numpy as np\n",
    "import math"
   ]
  },
  {
   "cell_type": "code",
   "execution_count": null,
   "metadata": {
    "collapsed": true
   },
   "outputs": [],
   "source": [
    "\"\"\"\n",
    "f(x,y)=w0 + Ewi * x\n",
    "Función lineal\n",
    "f = w0 + np.dot(w, x)\n",
    "\"\"\""
   ]
  },
  {
   "cell_type": "code",
   "execution_count": 7,
   "metadata": {},
   "outputs": [
    {
     "data": {
      "image/png": "[encoded data removed]",
      "text/plain": [
       "<matplotlib.figure.Figure at 0x24c729fb7b8>"
      ]
     },
     "metadata": {},
     "output_type": "display_data"
    }
   ],
   "source": [
    "\"\"\"\n",
    "g(x)=1/(1+e^(-x))\n",
    "\"\"\"\n",
    "x = np.linspace(-10,10,100)\n",
    "y = 1/(1 + np.exp(-x))\n",
    "plt.plot(x, y)\n",
    "plt.show()"
   ]
  },
  {
   "cell_type": "code",
   "execution_count": 8,
   "metadata": {},
   "outputs": [
    {
     "data": {
      "text/plain": [
       "'\\nCuál de las dos situaciones es más grave para un problema\\nde diagnostico médico\\na) acc=91%, sens=98%, esp=0,02%\\nb) acc=91%, sens=0,01%, esp=98%\\n\\nsens = TP/(TP+FN)\\nesp = TN/(TN+FP)\\n\\nEs más grave la b, porq tiene más falsos positivos, por lo tanto\\nvoy a decirle a un paciente que no está enfermo cuando si lo está\\n'"
      ]
     },
     "execution_count": 8,
     "metadata": {},
     "output_type": "execute_result"
    }
   ],
   "source": [
    "\"\"\"\n",
    "Cuál de las dos situaciones es más grave para un problema\n",
    "de diagnostico médico\n",
    "a) acc=91%, sens=98%, esp=0,02%\n",
    "b) acc=91%, sens=0,01%, esp=98%\n",
    "\n",
    "sens = TP/(TP+FN)\n",
    "esp = TN/(TN+FP)\n",
    "\n",
    "Es más grave la b, porq tiene más falsos positivos, por lo tanto\n",
    "voy a decirle a un paciente que no está enfermo cuando si lo está\n",
    "\"\"\""
   ]
  },
  {
   "cell_type": "code",
   "execution_count": 9,
   "metadata": {},
   "outputs": [
    {
     "data": {
      "text/plain": [
       "'\\nCuantas particiones aleatorias se hacen una metodoligía de validación\\ncross-validation:\\nSe hace solo una y se van moviendo los datos\\n\\nCuantas se hacen en aleatorias se hacen con bootstraping?\\nLas que se definan\\n\\nTengo -- defino CV-10, de a cuantos me quedan los datos? 150\\n'"
      ]
     },
     "execution_count": 9,
     "metadata": {},
     "output_type": "execute_result"
    }
   ],
   "source": [
    "\"\"\"\n",
    "Cuantas particiones aleatorias se hacen una metodoligía de validación\n",
    "cross-validation:\n",
    "Se hace solo una y se van moviendo los datos\n",
    "\n",
    "Cuantas se hacen en aleatorias se hacen con bootstraping?\n",
    "Las que se definan\n",
    "\n",
    "Tengo -- defino CV-10, de a cuantos me quedan los datos? 150\n",
    "\"\"\""
   ]
  },
  {
   "cell_type": "code",
   "execution_count": 10,
   "metadata": {},
   "outputs": [
    {
     "data": {
      "text/plain": [
       "'\\nfind: [_|\\n|\\t|\\\\.|;]\\nreplace: \\n\\n'"
      ]
     },
     "execution_count": 10,
     "metadata": {},
     "output_type": "execute_result"
    }
   ],
   "source": [
    "a = \"Esto es lo que vamos a tokenizar. Es muy sencillo, hagamoslo\"\n",
    "\"\"\"\n",
    "find: [_|\\n|\\t|\\.|;]\n",
    "replace: \\n\n",
    "Hacerlo pero sin que quite el \".\", se utilizan grupos\n",
    "\"\"\""
   ]
  },
  {
   "cell_type": "code",
   "execution_count": null,
   "metadata": {
    "collapsed": true
   },
   "outputs": [],
   "source": [
    "\"\"\"\n",
    "Naive bayes\n",
    "Texto ejemplo\n",
    "P(+) = positivos/todos\n",
    "P(-) = negativos/todos\n",
    "|v|=20\n",
    "\n",
    "P(predictable|+) = (0+1)/(9+20) = 1/29 // El 0+1 tiene el 0 porq al final la productoria daría 0\n",
    "P(predictable|-) = (1+1)/(14+20) = 2/34\n",
    "\n",
    "No se tiene en cuenta el \"with\" porq no está en el diccinario y daría 0\n",
    "\n",
    "P(no|+) = 1/29\n",
    "P(no|-) = 2/34\n",
    "\n",
    "P(fun|+) = 2/29\n",
    "P(fun|-) = 1/34\n",
    "\n",
    "Resultado:\n",
    "P(+) = ((2/5)*(1/29))*((2/5)*(1/29))*((2/5)*(2/29)) = 3.2*10^-5\n",
    "P(-) = (3/5)*((1/34)*(2/34)*(2/34)) = 6.1*10^-5\n",
    "\"\"\""
   ]
  }
 ],
 "metadata": {
  "kernelspec": {
   "display_name": "Python 3",
   "language": "python",
   "name": "python3"
  },
  "language_info": {
   "codemirror_mode": {
    "name": "ipython",
    "version": 3
   },
   "file_extension": ".py",
   "mimetype": "text/x-python",
   "name": "python",
   "nbconvert_exporter": "python",
   "pygments_lexer": "ipython3",
   "version": "3.6.3"
  }
 },
 "nbformat": 4,
 "nbformat_minor": 2
}
